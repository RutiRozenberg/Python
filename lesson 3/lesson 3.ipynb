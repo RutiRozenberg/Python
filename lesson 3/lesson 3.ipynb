{
 "cells": [
  {
   "cell_type": "code",
   "execution_count": 1,
   "id": "27de1810-8ec8-47b6-b34d-6d42a6e09d63",
   "metadata": {},
   "outputs": [
    {
     "name": "stdout",
     "output_type": "stream",
     "text": [
      "Collecting numpy\n",
      "  Downloading numpy-1.26.3-cp310-cp310-win_amd64.whl.metadata (61 kB)\n",
      "     ---------------------------------------- 0.0/61.2 kB ? eta -:--:--\n",
      "     ------------------------------- ------ 51.2/61.2 kB 871.5 kB/s eta 0:00:01\n",
      "     -------------------------------------- 61.2/61.2 kB 822.1 kB/s eta 0:00:00\n",
      "Downloading numpy-1.26.3-cp310-cp310-win_amd64.whl (15.8 MB)\n",
      "   ---------------------------------------- 0.0/15.8 MB ? eta -:--:--\n",
      "   ---------------------------------------- 0.1/15.8 MB 1.3 MB/s eta 0:00:13\n",
      "   ---------------------------------------- 0.2/15.8 MB 2.0 MB/s eta 0:00:08\n",
      "   - -------------------------------------- 0.5/15.8 MB 3.1 MB/s eta 0:00:05\n",
      "   -- ------------------------------------- 0.8/15.8 MB 3.9 MB/s eta 0:00:04\n",
      "   --- ------------------------------------ 1.2/15.8 MB 4.9 MB/s eta 0:00:03\n",
      "   ---- ----------------------------------- 1.7/15.8 MB 5.9 MB/s eta 0:00:03\n",
      "   ----- ---------------------------------- 2.1/15.8 MB 6.1 MB/s eta 0:00:03\n",
      "   ------ --------------------------------- 2.5/15.8 MB 6.5 MB/s eta 0:00:03\n",
      "   ------- -------------------------------- 2.9/15.8 MB 6.8 MB/s eta 0:00:02\n",
      "   -------- ------------------------------- 3.3/15.8 MB 6.8 MB/s eta 0:00:02\n",
      "   --------- ------------------------------ 3.7/15.8 MB 7.1 MB/s eta 0:00:02\n",
      "   ---------- ----------------------------- 4.1/15.8 MB 7.3 MB/s eta 0:00:02\n",
      "   ----------- ---------------------------- 4.5/15.8 MB 7.4 MB/s eta 0:00:02\n",
      "   ------------ --------------------------- 5.0/15.8 MB 7.5 MB/s eta 0:00:02\n",
      "   ------------- -------------------------- 5.4/15.8 MB 7.6 MB/s eta 0:00:02\n",
      "   -------------- ------------------------- 5.8/15.8 MB 7.7 MB/s eta 0:00:02\n",
      "   --------------- ------------------------ 6.2/15.8 MB 7.8 MB/s eta 0:00:02\n",
      "   ---------------- ----------------------- 6.6/15.8 MB 7.9 MB/s eta 0:00:02\n",
      "   ------------------ --------------------- 7.1/15.8 MB 8.0 MB/s eta 0:00:02\n",
      "   ------------------- -------------------- 7.6/15.8 MB 8.1 MB/s eta 0:00:02\n",
      "   -------------------- ------------------- 8.0/15.8 MB 8.1 MB/s eta 0:00:01\n",
      "   --------------------- ------------------ 8.4/15.8 MB 8.0 MB/s eta 0:00:01\n",
      "   ---------------------- ----------------- 8.8/15.8 MB 8.2 MB/s eta 0:00:01\n",
      "   ----------------------- ---------------- 9.2/15.8 MB 8.2 MB/s eta 0:00:01\n",
      "   ------------------------ --------------- 9.7/15.8 MB 8.2 MB/s eta 0:00:01\n",
      "   ------------------------- -------------- 10.1/15.8 MB 8.3 MB/s eta 0:00:01\n",
      "   -------------------------- ------------- 10.4/15.8 MB 8.7 MB/s eta 0:00:01\n",
      "   --------------------------- ------------ 10.8/15.8 MB 9.0 MB/s eta 0:00:01\n",
      "   ---------------------------- ----------- 11.3/15.8 MB 9.1 MB/s eta 0:00:01\n",
      "   ----------------------------- ---------- 11.7/15.8 MB 8.8 MB/s eta 0:00:01\n",
      "   ------------------------------ --------- 12.0/15.8 MB 9.0 MB/s eta 0:00:01\n",
      "   ------------------------------- -------- 12.5/15.8 MB 9.1 MB/s eta 0:00:01\n",
      "   ------------------------------- -------- 12.5/15.8 MB 9.0 MB/s eta 0:00:01\n",
      "   -------------------------------- ------- 12.7/15.8 MB 8.4 MB/s eta 0:00:01\n",
      "   -------------------------------- ------- 12.9/15.8 MB 8.3 MB/s eta 0:00:01\n",
      "   --------------------------------- ------ 13.1/15.8 MB 8.2 MB/s eta 0:00:01\n",
      "   --------------------------------- ------ 13.4/15.8 MB 8.2 MB/s eta 0:00:01\n",
      "   ---------------------------------- ----- 13.7/15.8 MB 8.1 MB/s eta 0:00:01\n",
      "   ----------------------------------- ---- 13.9/15.8 MB 8.0 MB/s eta 0:00:01\n",
      "   ------------------------------------ --- 14.2/15.8 MB 7.8 MB/s eta 0:00:01\n",
      "   ------------------------------------ --- 14.6/15.8 MB 7.8 MB/s eta 0:00:01\n",
      "   ------------------------------------- -- 14.9/15.8 MB 7.7 MB/s eta 0:00:01\n",
      "   -------------------------------------- - 15.2/15.8 MB 7.7 MB/s eta 0:00:01\n",
      "   ---------------------------------------  15.5/15.8 MB 7.5 MB/s eta 0:00:01\n",
      "   ---------------------------------------  15.8/15.8 MB 7.5 MB/s eta 0:00:01\n",
      "   ---------------------------------------- 15.8/15.8 MB 7.4 MB/s eta 0:00:00\n",
      "Installing collected packages: numpy\n",
      "Note: you may need to restart the kernel to use updated packages.\n"
     ]
    },
    {
     "name": "stderr",
     "output_type": "stream",
     "text": [
      "  WARNING: Failed to write executable - trying to use .deleteme logic\n",
      "ERROR: Could not install packages due to an OSError: [WinError 2] The system cannot find the file specified: 'C:\\\\Python310\\\\Scripts\\\\f2py.exe' -> 'C:\\\\Python310\\\\Scripts\\\\f2py.exe.deleteme'\n",
      "\n"
     ]
    }
   ],
   "source": [
    "pip install numpy \n"
   ]
  },
  {
   "cell_type": "code",
   "execution_count": 3,
   "id": "cd560960-b6b9-4fc6-96c7-45d041711105",
   "metadata": {},
   "outputs": [],
   "source": [
    "import numpy as np"
   ]
  },
  {
   "cell_type": "code",
   "execution_count": 13,
   "id": "c695e44d-a11e-4dc7-80e7-5257767a6907",
   "metadata": {},
   "outputs": [
    {
     "data": {
      "text/plain": [
       "array([28, 28, 17, 42, 41, 31, 26, 33, 10,  4])"
      ]
     },
     "execution_count": 13,
     "metadata": {},
     "output_type": "execute_result"
    }
   ],
   "source": [
    "random_array = np.random.randint(1,50 ,size=(10))\n",
    "random_array\n"
   ]
  },
  {
   "cell_type": "code",
   "execution_count": 11,
   "id": "84ab4948-0ed3-4176-8159-0a31ae782fc3",
   "metadata": {},
   "outputs": [
    {
     "data": {
      "text/plain": [
       "1"
      ]
     },
     "execution_count": 11,
     "metadata": {},
     "output_type": "execute_result"
    }
   ],
   "source": [
    "np.ndim(random_array)"
   ]
  },
  {
   "cell_type": "code",
   "execution_count": 12,
   "id": "47fa1bc2-07cb-4887-9d8f-c6c4bdfdba04",
   "metadata": {},
   "outputs": [
    {
     "data": {
      "text/plain": [
       "(10,)"
      ]
     },
     "execution_count": 12,
     "metadata": {},
     "output_type": "execute_result"
    }
   ],
   "source": [
    "random_array.shape"
   ]
  },
  {
   "cell_type": "code",
   "execution_count": 14,
   "id": "797b43e3-534e-4a7e-8820-ecf782a75cd1",
   "metadata": {},
   "outputs": [
    {
     "data": {
      "text/plain": [
       "array([[81, 59, 93, 56, 18],\n",
       "       [ 2, 60, 57, 33, 58]])"
      ]
     },
     "execution_count": 14,
     "metadata": {},
     "output_type": "execute_result"
    }
   ],
   "source": [
    "random_array2 = np.random.randint(1,100 ,size=(2,5))\n",
    "random_array2\n"
   ]
  },
  {
   "cell_type": "code",
   "execution_count": 15,
   "id": "b7d1025e-2693-422a-9da4-28ad05be8df4",
   "metadata": {},
   "outputs": [
    {
     "data": {
      "text/plain": [
       "2"
      ]
     },
     "execution_count": 15,
     "metadata": {},
     "output_type": "execute_result"
    }
   ],
   "source": [
    "np.ndim(random_array2)"
   ]
  },
  {
   "cell_type": "code",
   "execution_count": 17,
   "id": "8da57b43-13b2-4612-b33f-26a47adab8d4",
   "metadata": {},
   "outputs": [
    {
     "data": {
      "text/plain": [
       "(2, 5)"
      ]
     },
     "execution_count": 17,
     "metadata": {},
     "output_type": "execute_result"
    }
   ],
   "source": [
    "random_array2.shape"
   ]
  },
  {
   "cell_type": "code",
   "execution_count": null,
   "id": "bc96671e-5d44-4a2d-9093-428c7df57cfc",
   "metadata": {},
   "outputs": [],
   "source": [
    "thank !!!!!!!!!👍👍👍"
   ]
  }
 ],
 "metadata": {
  "kernelspec": {
   "display_name": "Python 3 (ipykernel)",
   "language": "python",
   "name": "python3"
  },
  "language_info": {
   "codemirror_mode": {
    "name": "ipython",
    "version": 3
   },
   "file_extension": ".py",
   "mimetype": "text/x-python",
   "name": "python",
   "nbconvert_exporter": "python",
   "pygments_lexer": "ipython3",
   "version": "3.10.8"
  }
 },
 "nbformat": 4,
 "nbformat_minor": 5
}
